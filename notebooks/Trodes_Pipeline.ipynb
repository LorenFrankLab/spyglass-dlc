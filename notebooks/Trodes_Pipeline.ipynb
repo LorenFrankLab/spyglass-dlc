{
 "cells": [
  {
   "cell_type": "markdown",
   "id": "cb213a6c",
   "metadata": {},
   "source": [
    "# Top<a id='Top'></a>"
   ]
  },
  {
   "cell_type": "code",
   "execution_count": null,
   "id": "b58ec6d1",
   "metadata": {},
   "outputs": [],
   "source": [
    "%reload_ext autoreload\n",
    "%autoreload 2\n",
    "from IPython.display import display, HTML\n",
    "display(HTML(\"<style>.container { width:100% !important; }</style>\"))"
   ]
  },
  {
   "cell_type": "code",
   "execution_count": null,
   "id": "0f567531",
   "metadata": {},
   "outputs": [],
   "source": [
    "import spyglass.common as sgc\n",
    "from pathlib import Path, PosixPath, PurePath\n",
    "import pynwb\n",
    "import os\n",
    "import numpy as np\n",
    "import pandas as pd\n",
    "import datajoint as dj\n",
    "import spyglass_dlc as sg_dlc"
   ]
  },
  {
   "cell_type": "markdown",
   "id": "56fd71bf",
   "metadata": {},
   "source": [
    "[`TrodesPosParams`](#TrodesPosParams)<br>\n",
    "[`TrodesPosSelection`](#TrodesPosSelection)<br>\n",
    "[`TrodesPos`](#TrodesPos)<br>\n",
    "[`PosSource`](#PosSource)<br>\n",
    "[`IntervalPositionInfo`](#IntervalPositionInfo)<br>"
   ]
  },
  {
   "cell_type": "markdown",
   "id": "685ac08d",
   "metadata": {},
   "source": [
    "#### TrodesPosParams<a id='TrodesPosParams'></a>"
   ]
  },
  {
   "cell_type": "code",
   "execution_count": null,
   "id": "86be710d",
   "metadata": {},
   "outputs": [],
   "source": [
    "sg_dlc.TrodesPosParams.insert_default()"
   ]
  },
  {
   "cell_type": "code",
   "execution_count": null,
   "id": "6229ea03",
   "metadata": {},
   "outputs": [],
   "source": [
    "sg_dlc.TrodesPosParams()"
   ]
  },
  {
   "cell_type": "markdown",
   "id": "914077e2",
   "metadata": {},
   "source": [
    "#### TrodesPosSelection<a id='TrodesPosSelection'></a>"
   ]
  },
  {
   "cell_type": "code",
   "execution_count": null,
   "id": "521e3514",
   "metadata": {},
   "outputs": [],
   "source": [
    "sg_dlc.TrodesPosSelection().insert1(\n",
    "    {\n",
    "        'nwb_file_name': 'peanut20201109_.nwb',\n",
    "        'interval_list_name': 'pos 3 valid times',\n",
    "        'trodes_pos_params_name': 'default',\n",
    "    },\n",
    "    skip_duplicates=True,\n",
    ")"
   ]
  },
  {
   "cell_type": "code",
   "execution_count": null,
   "id": "f01c9fa6",
   "metadata": {},
   "outputs": [],
   "source": [
    "sg_dlc.TrodesPosSelection()"
   ]
  },
  {
   "cell_type": "markdown",
   "id": "4a353be9",
   "metadata": {},
   "source": [
    "#### TrodesPos<a id='TrodesPos'></a>"
   ]
  },
  {
   "cell_type": "code",
   "execution_count": null,
   "id": "f96dc25b",
   "metadata": {},
   "outputs": [],
   "source": [
    "sg_dlc.TrodesPos().populate()"
   ]
  },
  {
   "cell_type": "markdown",
   "id": "9d66e0f8",
   "metadata": {},
   "source": [
    "#### PosSource<a id='PosSource'></a>"
   ]
  },
  {
   "cell_type": "code",
   "execution_count": null,
   "id": "0494b34f",
   "metadata": {},
   "outputs": [],
   "source": [
    "sg_dlc.PosSource.TrodesPos()"
   ]
  },
  {
   "cell_type": "markdown",
   "id": "96ad5688",
   "metadata": {},
   "source": [
    "#### IntervalPositionInfo<a id='IntervalPositionInfo'></a>"
   ]
  },
  {
   "cell_type": "code",
   "execution_count": null,
   "id": "6926ed8e",
   "metadata": {},
   "outputs": [],
   "source": [
    "int_pos_info_keys = (sg_dlc.PosSource & {'source': 'Trodes'}).fetch('KEY')"
   ]
  },
  {
   "cell_type": "code",
   "execution_count": null,
   "id": "ccf0c588",
   "metadata": {},
   "outputs": [],
   "source": [
    "sg_dlc.IntervalPositionInfoSelection().insert(int_pos_info_keys)"
   ]
  },
  {
   "cell_type": "code",
   "execution_count": null,
   "id": "5c3645f4",
   "metadata": {},
   "outputs": [],
   "source": [
    "sg_dlc.IntervalPositionInfoSelection()"
   ]
  },
  {
   "cell_type": "code",
   "execution_count": null,
   "id": "cfd734a2",
   "metadata": {},
   "outputs": [],
   "source": [
    "sg_dlc.IntervalPositionInfo.populate()"
   ]
  },
  {
   "cell_type": "code",
   "execution_count": null,
   "id": "68163b2d",
   "metadata": {},
   "outputs": [],
   "source": [
    "sg_dlc.IntervalPositionInfo()"
   ]
  },
  {
   "cell_type": "markdown",
   "id": "c71c90a2",
   "metadata": {},
   "source": [
    "### [`Return To Top`](#Top)<br>"
   ]
  }
 ],
 "metadata": {
  "kernelspec": {
   "display_name": "Python [conda env:spyglass-dlc] *",
   "language": "python",
   "name": "conda-env-spyglass-dlc-py"
  },
  "language_info": {
   "codemirror_mode": {
    "name": "ipython",
    "version": 3
   },
   "file_extension": ".py",
   "mimetype": "text/x-python",
   "name": "python",
   "nbconvert_exporter": "python",
   "pygments_lexer": "ipython3",
   "version": "3.9.13"
  }
 },
 "nbformat": 4,
 "nbformat_minor": 5
}
